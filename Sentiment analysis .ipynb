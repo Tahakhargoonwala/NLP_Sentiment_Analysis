{
 "cells": [
  {
   "cell_type": "code",
   "execution_count": 1,
   "id": "a116b2d7",
   "metadata": {},
   "outputs": [],
   "source": [
    "#pip install nltk\n",
    "#!pip install seaborn"
   ]
  },
  {
   "cell_type": "code",
   "execution_count": 2,
   "id": "0317c491",
   "metadata": {},
   "outputs": [],
   "source": [
    "import nltk\n",
    "#nltk.download('averaged_perceptron_tagger')\n",
    "#nltk.download('maxent_ne_chunker')\n",
    "#nltk.download('words')\n",
    "#nltk.download('vader_lexicon')\n",
    "  "
   ]
  },
  {
   "cell_type": "code",
   "execution_count": 3,
   "id": "41651eca",
   "metadata": {},
   "outputs": [],
   "source": [
    "#!pip install nltk"
   ]
  },
  {
   "cell_type": "code",
   "execution_count": 4,
   "id": "3af963db",
   "metadata": {},
   "outputs": [],
   "source": [
    "import numpy as np\n",
    "import pandas as pd\n",
    "import matplotlib.pyplot as plt\n",
    "import nltk\n",
    "from nltk import *"
   ]
  },
  {
   "cell_type": "code",
   "execution_count": 5,
   "id": "960b66ba",
   "metadata": {},
   "outputs": [],
   "source": [
    "df = pd.read_csv(\"newfile.csv.csv\") "
   ]
  },
  {
   "cell_type": "code",
   "execution_count": 6,
   "id": "bffbf328",
   "metadata": {},
   "outputs": [
    {
     "name": "stdout",
     "output_type": "stream",
     "text": [
      "(300, 3)\n"
     ]
    },
    {
     "data": {
      "text/html": [
       "<div>\n",
       "<style scoped>\n",
       "    .dataframe tbody tr th:only-of-type {\n",
       "        vertical-align: middle;\n",
       "    }\n",
       "\n",
       "    .dataframe tbody tr th {\n",
       "        vertical-align: top;\n",
       "    }\n",
       "\n",
       "    .dataframe thead th {\n",
       "        text-align: right;\n",
       "    }\n",
       "</style>\n",
       "<table border=\"1\" class=\"dataframe\">\n",
       "  <thead>\n",
       "    <tr style=\"text-align: right;\">\n",
       "      <th></th>\n",
       "      <th>number</th>\n",
       "      <th>User</th>\n",
       "      <th>Tweet</th>\n",
       "    </tr>\n",
       "  </thead>\n",
       "  <tbody>\n",
       "    <tr>\n",
       "      <th>0</th>\n",
       "      <td>0</td>\n",
       "      <td>HiringCare</td>\n",
       "      <td>RT @lgbtqremotejobs: Remote job (open) Cozy 👉 ...</td>\n",
       "    </tr>\n",
       "    <tr>\n",
       "      <th>1</th>\n",
       "      <td>1</td>\n",
       "      <td>lgbtqremotejobs</td>\n",
       "      <td>Remote job (open) Cozy 👉 Remote Digital Projec...</td>\n",
       "    </tr>\n",
       "    <tr>\n",
       "      <th>2</th>\n",
       "      <td>2</td>\n",
       "      <td>apinaud</td>\n",
       "      <td>You should look for things that help you be ev...</td>\n",
       "    </tr>\n",
       "    <tr>\n",
       "      <th>3</th>\n",
       "      <td>3</td>\n",
       "      <td>ProdVoice</td>\n",
       "      <td>You should look for things that help you be ev...</td>\n",
       "    </tr>\n",
       "    <tr>\n",
       "      <th>4</th>\n",
       "      <td>4</td>\n",
       "      <td>dating677</td>\n",
       "      <td>A Youtube vid you might like FREE GET PAID $69...</td>\n",
       "    </tr>\n",
       "  </tbody>\n",
       "</table>\n",
       "</div>"
      ],
      "text/plain": [
       "   number              User                                              Tweet\n",
       "0        0       HiringCare  RT @lgbtqremotejobs: Remote job (open) Cozy 👉 ...\n",
       "1        1  lgbtqremotejobs  Remote job (open) Cozy 👉 Remote Digital Projec...\n",
       "2        2          apinaud  You should look for things that help you be ev...\n",
       "3        3        ProdVoice  You should look for things that help you be ev...\n",
       "4        4        dating677  A Youtube vid you might like FREE GET PAID $69..."
      ]
     },
     "execution_count": 6,
     "metadata": {},
     "output_type": "execute_result"
    }
   ],
   "source": [
    "print(df.shape)\n",
    "df.head()"
   ]
  },
  {
   "cell_type": "markdown",
   "id": "b32afed1",
   "metadata": {},
   "source": [
    "#some basic NLTK values "
   ]
  },
  {
   "cell_type": "code",
   "execution_count": 7,
   "id": "7ce4dbd9",
   "metadata": {},
   "outputs": [
    {
     "name": "stdout",
     "output_type": "stream",
     "text": [
      "Looking to give your business a professional image? Want to keep your home address private? Get a professional mailbox at #OfficeEvolution #CedarRapids and get member discounts on meeting space.\n",
      "\n",
      "#SmallBusiness #ProfessionalMailbox #POBox #Professional #WorkFromHome https://t.co/v24iPhUMDM\n"
     ]
    }
   ],
   "source": [
    "example = df[\"Tweet\"][50]\n",
    "print(example)\n",
    "                    "
   ]
  },
  {
   "cell_type": "code",
   "execution_count": 8,
   "id": "d4004a33",
   "metadata": {},
   "outputs": [
    {
     "data": {
      "text/plain": [
       "['Looking',\n",
       " 'to',\n",
       " 'give',\n",
       " 'your',\n",
       " 'business',\n",
       " 'a',\n",
       " 'professional',\n",
       " 'image',\n",
       " '?',\n",
       " 'Want']"
      ]
     },
     "execution_count": 8,
     "metadata": {},
     "output_type": "execute_result"
    }
   ],
   "source": [
    "tokens = nltk.wordpunct_tokenize(example)\n",
    "tokens[:10]"
   ]
  },
  {
   "cell_type": "code",
   "execution_count": 9,
   "id": "332726d8",
   "metadata": {},
   "outputs": [],
   "source": [
    "tagged = nltk.pos_tag(tokens)"
   ]
  },
  {
   "cell_type": "code",
   "execution_count": 10,
   "id": "38cc98cb",
   "metadata": {},
   "outputs": [
    {
     "name": "stdout",
     "output_type": "stream",
     "text": [
      "(S\n",
      "  Looking/VBG\n",
      "  to/TO\n",
      "  give/VB\n",
      "  your/PRP$\n",
      "  business/NN\n",
      "  a/DT\n",
      "  professional/JJ\n",
      "  image/NN\n",
      "  ?/.\n",
      "  Want/VBP\n",
      "  to/TO\n",
      "  keep/VB\n",
      "  your/PRP$\n",
      "  home/NN\n",
      "  address/NN\n",
      "  private/JJ\n",
      "  ?/.\n",
      "  Get/VB\n",
      "  a/DT\n",
      "  professional/JJ\n",
      "  mailbox/NN\n",
      "  at/IN\n",
      "  #/#\n",
      "  OfficeEvolution/NNP\n",
      "  #/#\n",
      "  (ORGANIZATION CedarRapids/NNP)\n",
      "  and/CC\n",
      "  get/VB\n",
      "  member/NN\n",
      "  discounts/NNS\n",
      "  on/IN\n",
      "  meeting/VBG\n",
      "  space/NN\n",
      "  ./.\n",
      "  #/#\n",
      "  (ORGANIZATION SmallBusiness/NNP)\n",
      "  #/#\n",
      "  ProfessionalMailbox/NNP\n",
      "  #/#\n",
      "  (ORGANIZATION POBox/NNP)\n",
      "  #/#\n",
      "  Professional/NNP\n",
      "  #/#\n",
      "  WorkFromHome/NNP\n",
      "  https/NN\n",
      "  :///NNP\n",
      "  t/NN\n",
      "  ./.\n",
      "  co/NN\n",
      "  //NN\n",
      "  (ORGANIZATION v24iPhUMDM/NN))\n"
     ]
    }
   ],
   "source": [
    "entities = nltk.chunk.ne_chunk(tagged)\n",
    "print(entities)"
   ]
  },
  {
   "cell_type": "markdown",
   "id": "905c6e51",
   "metadata": {},
   "source": [
    "# we use vader now sentiment analysis\n",
    "it stands for(Valence aware dictionary and sentiment reasoner) - Bag of word approach\n",
    "1} stops words are need to removed \n",
    "2} Each word is scored and combined in a total score "
   ]
  },
  {
   "cell_type": "code",
   "execution_count": 11,
   "id": "ef772621",
   "metadata": {},
   "outputs": [],
   "source": [
    "from tqdm.notebook import tqdm"
   ]
  },
  {
   "cell_type": "code",
   "execution_count": 12,
   "id": "c2806751",
   "metadata": {},
   "outputs": [],
   "source": [
    "from nltk.sentiment import SentimentIntensityAnalyzer\n",
    "\n",
    "sia = SentimentIntensityAnalyzer()"
   ]
  },
  {
   "cell_type": "code",
   "execution_count": 13,
   "id": "f877b694",
   "metadata": {},
   "outputs": [
    {
     "data": {
      "text/plain": [
       "<nltk.sentiment.vader.SentimentIntensityAnalyzer at 0x228e9e44b50>"
      ]
     },
     "execution_count": 13,
     "metadata": {},
     "output_type": "execute_result"
    }
   ],
   "source": [
    "sia "
   ]
  },
  {
   "cell_type": "code",
   "execution_count": 26,
   "id": "5e5c145b",
   "metadata": {},
   "outputs": [
    {
     "data": {
      "text/plain": [
       "{'neg': 0.428, 'neu': 0.572, 'pos': 0.0, 'compound': -0.4585}"
      ]
     },
     "execution_count": 26,
     "metadata": {},
     "output_type": "execute_result"
    }
   ],
   "source": [
    "sia.polarity_scores(\"i am not happy at all\")"
   ]
  },
  {
   "cell_type": "code",
   "execution_count": 15,
   "id": "a0940e07",
   "metadata": {},
   "outputs": [
    {
     "data": {
      "text/plain": [
       "{'neg': 0.0, 'neu': 0.213, 'pos': 0.787, 'compound': 0.5719}"
      ]
     },
     "execution_count": 15,
     "metadata": {},
     "output_type": "execute_result"
    }
   ],
   "source": [
    "sia.polarity_scores(\"i am  happy\")"
   ]
  },
  {
   "cell_type": "code",
   "execution_count": 16,
   "id": "6e301431",
   "metadata": {},
   "outputs": [
    {
     "data": {
      "text/plain": [
       "{'neg': 0.0, 'neu': 0.951, 'pos': 0.049, 'compound': 0.168}"
      ]
     },
     "execution_count": 16,
     "metadata": {},
     "output_type": "execute_result"
    }
   ],
   "source": [
    "sia.polarity_scores(example)"
   ]
  },
  {
   "cell_type": "code",
   "execution_count": 17,
   "id": "2664f59b",
   "metadata": {},
   "outputs": [],
   "source": [
    "#now we have to run the polarity score on the entire data\n"
   ]
  },
  {
   "cell_type": "code",
   "execution_count": 18,
   "id": "6873cefd",
   "metadata": {},
   "outputs": [
    {
     "data": {
      "text/html": [
       "<div>\n",
       "<style scoped>\n",
       "    .dataframe tbody tr th:only-of-type {\n",
       "        vertical-align: middle;\n",
       "    }\n",
       "\n",
       "    .dataframe tbody tr th {\n",
       "        vertical-align: top;\n",
       "    }\n",
       "\n",
       "    .dataframe thead th {\n",
       "        text-align: right;\n",
       "    }\n",
       "</style>\n",
       "<table border=\"1\" class=\"dataframe\">\n",
       "  <thead>\n",
       "    <tr style=\"text-align: right;\">\n",
       "      <th></th>\n",
       "      <th>number</th>\n",
       "      <th>User</th>\n",
       "      <th>Tweet</th>\n",
       "    </tr>\n",
       "  </thead>\n",
       "  <tbody>\n",
       "    <tr>\n",
       "      <th>0</th>\n",
       "      <td>0</td>\n",
       "      <td>HiringCare</td>\n",
       "      <td>RT @lgbtqremotejobs: Remote job (open) Cozy 👉 ...</td>\n",
       "    </tr>\n",
       "    <tr>\n",
       "      <th>1</th>\n",
       "      <td>1</td>\n",
       "      <td>lgbtqremotejobs</td>\n",
       "      <td>Remote job (open) Cozy 👉 Remote Digital Projec...</td>\n",
       "    </tr>\n",
       "    <tr>\n",
       "      <th>2</th>\n",
       "      <td>2</td>\n",
       "      <td>apinaud</td>\n",
       "      <td>You should look for things that help you be ev...</td>\n",
       "    </tr>\n",
       "    <tr>\n",
       "      <th>3</th>\n",
       "      <td>3</td>\n",
       "      <td>ProdVoice</td>\n",
       "      <td>You should look for things that help you be ev...</td>\n",
       "    </tr>\n",
       "    <tr>\n",
       "      <th>4</th>\n",
       "      <td>4</td>\n",
       "      <td>dating677</td>\n",
       "      <td>A Youtube vid you might like FREE GET PAID $69...</td>\n",
       "    </tr>\n",
       "    <tr>\n",
       "      <th>...</th>\n",
       "      <td>...</td>\n",
       "      <td>...</td>\n",
       "      <td>...</td>\n",
       "    </tr>\n",
       "    <tr>\n",
       "      <th>295</th>\n",
       "      <td>295</td>\n",
       "      <td>remotejobsninja</td>\n",
       "      <td>New Remote Job 🏆👇🏻\\n\\n Senior Revenue Accounta...</td>\n",
       "    </tr>\n",
       "    <tr>\n",
       "      <th>296</th>\n",
       "      <td>296</td>\n",
       "      <td>CryptoBull3366</td>\n",
       "      <td>RT @unifarm_: 🤔Feeling stuck in an 8X8 cubicle...</td>\n",
       "    </tr>\n",
       "    <tr>\n",
       "      <th>297</th>\n",
       "      <td>297</td>\n",
       "      <td>zobjobsUS</td>\n",
       "      <td>Customer Service Representative/CSR - Remote\\n...</td>\n",
       "    </tr>\n",
       "    <tr>\n",
       "      <th>298</th>\n",
       "      <td>298</td>\n",
       "      <td>workingbnb</td>\n",
       "      <td>RT @weworkremotely: New Remote Design Job! Fra...</td>\n",
       "    </tr>\n",
       "    <tr>\n",
       "      <th>299</th>\n",
       "      <td>299</td>\n",
       "      <td>career_vault</td>\n",
       "      <td>RT @WantRemoteJob: New #remote #job Protech - ...</td>\n",
       "    </tr>\n",
       "  </tbody>\n",
       "</table>\n",
       "<p>300 rows × 3 columns</p>\n",
       "</div>"
      ],
      "text/plain": [
       "     number              User  \\\n",
       "0          0       HiringCare   \n",
       "1          1  lgbtqremotejobs   \n",
       "2          2          apinaud   \n",
       "3          3        ProdVoice   \n",
       "4          4        dating677   \n",
       "..       ...              ...   \n",
       "295      295  remotejobsninja   \n",
       "296      296   CryptoBull3366   \n",
       "297      297        zobjobsUS   \n",
       "298      298       workingbnb   \n",
       "299      299     career_vault   \n",
       "\n",
       "                                                 Tweet  \n",
       "0    RT @lgbtqremotejobs: Remote job (open) Cozy 👉 ...  \n",
       "1    Remote job (open) Cozy 👉 Remote Digital Projec...  \n",
       "2    You should look for things that help you be ev...  \n",
       "3    You should look for things that help you be ev...  \n",
       "4    A Youtube vid you might like FREE GET PAID $69...  \n",
       "..                                                 ...  \n",
       "295  New Remote Job 🏆👇🏻\\n\\n Senior Revenue Accounta...  \n",
       "296  RT @unifarm_: 🤔Feeling stuck in an 8X8 cubicle...  \n",
       "297  Customer Service Representative/CSR - Remote\\n...  \n",
       "298  RT @weworkremotely: New Remote Design Job! Fra...  \n",
       "299  RT @WantRemoteJob: New #remote #job Protech - ...  \n",
       "\n",
       "[300 rows x 3 columns]"
      ]
     },
     "execution_count": 18,
     "metadata": {},
     "output_type": "execute_result"
    }
   ],
   "source": [
    "df # we will grabe the polarity score"
   ]
  },
  {
   "cell_type": "code",
   "execution_count": 19,
   "id": "3533371f",
   "metadata": {},
   "outputs": [
    {
     "data": {
      "application/vnd.jupyter.widget-view+json": {
       "model_id": "425eda0d00c94812a2071359a9711c3c",
       "version_major": 2,
       "version_minor": 0
      },
      "text/plain": [
       "  0%|          | 0/300 [00:00<?, ?it/s]"
      ]
     },
     "metadata": {},
     "output_type": "display_data"
    }
   ],
   "source": [
    "res={}\n",
    "for i, row in tqdm(df.iterrows(), total = len(df)):\n",
    "    text = row[\"Tweet\"]\n",
    "    my_id = row[\"User\"]\n",
    "    res[my_id]=sia.polarity_scores(text)\n",
    "    "
   ]
  },
  {
   "cell_type": "code",
   "execution_count": 20,
   "id": "7b93a2b0",
   "metadata": {},
   "outputs": [
    {
     "data": {
      "text/plain": [
       "{'HiringCare': {'neg': 0.0, 'neu': 0.82, 'pos': 0.18, 'compound': 0.5255},\n",
       " 'lgbtqremotejobs': {'neg': 0.0,\n",
       "  'neu': 0.933,\n",
       "  'pos': 0.067,\n",
       "  'compound': 0.3818},\n",
       " 'apinaud': {'neg': 0.0, 'neu': 0.89, 'pos': 0.11, 'compound': 0.2732},\n",
       " 'ProdVoice': {'neg': 0.0, 'neu': 0.89, 'pos': 0.11, 'compound': 0.2732},\n",
       " 'dating677': {'neg': 0.0, 'neu': 0.788, 'pos': 0.212, 'compound': 0.6166},\n",
       " 'grahampaul096': {'neg': 0.0, 'neu': 0.656, 'pos': 0.344, 'compound': 0.9199},\n",
       " 'TheWealthZone': {'neg': 0.082,\n",
       "  'neu': 0.709,\n",
       "  'pos': 0.209,\n",
       "  'compound': 0.5574},\n",
       " 'FNAnetwork': {'neg': 0.0, 'neu': 1.0, 'pos': 0.0, 'compound': 0.0},\n",
       " 'marketingking4': {'neg': 0.0,\n",
       "  'neu': 0.712,\n",
       "  'pos': 0.288,\n",
       "  'compound': 0.7959},\n",
       " 'OfertasVips': {'neg': 0.0, 'neu': 1.0, 'pos': 0.0, 'compound': 0.0},\n",
       " 'Up2staff': {'neg': 0.0, 'neu': 0.642, 'pos': 0.358, 'compound': 0.8625},\n",
       " 'TOANguy': {'neg': 0.0, 'neu': 1.0, 'pos': 0.0, 'compound': 0.0},\n",
       " 'Lean4Lifetime': {'neg': 0.0, 'neu': 1.0, 'pos': 0.0, 'compound': 0.0},\n",
       " 'm0tivation_HQ': {'neg': 0.0, 'neu': 0.845, 'pos': 0.155, 'compound': 0.6166},\n",
       " 'reporter_tv': {'neg': 0.0, 'neu': 1.0, 'pos': 0.0, 'compound': 0.0},\n",
       " 'WorkAtHome_Info': {'neg': 0.0, 'neu': 1.0, 'pos': 0.0, 'compound': 0.0},\n",
       " 'ReporterTv_News': {'neg': 0.0, 'neu': 1.0, 'pos': 0.0, 'compound': 0.0},\n",
       " 'HowGetBestGuide': {'neg': 0.0,\n",
       "  'neu': 0.744,\n",
       "  'pos': 0.256,\n",
       "  'compound': 0.836},\n",
       " 'WishToRetire': {'neg': 0.0, 'neu': 0.685, 'pos': 0.315, 'compound': 0.8516},\n",
       " 'remotejobsninja': {'neg': 0.0, 'neu': 1.0, 'pos': 0.0, 'compound': 0.0},\n",
       " 'EvansNthiwa': {'neg': 0.0, 'neu': 1.0, 'pos': 0.0, 'compound': 0.0},\n",
       " 'workingbnb': {'neg': 0.0, 'neu': 1.0, 'pos': 0.0, 'compound': 0.0},\n",
       " 'career_vault': {'neg': 0.0, 'neu': 0.859, 'pos': 0.141, 'compound': 0.3182},\n",
       " 'MoneyMaker_Guru': {'neg': 0.0, 'neu': 1.0, 'pos': 0.0, 'compound': 0.0},\n",
       " 'ramm_offl': {'neg': 0.0, 'neu': 0.915, 'pos': 0.085, 'compound': 0.0772},\n",
       " 'Diabetes_Secret': {'neg': 0.0,\n",
       "  'neu': 0.776,\n",
       "  'pos': 0.224,\n",
       "  'compound': 0.6166},\n",
       " 'TrevorVerska': {'neg': 0.0, 'neu': 1.0, 'pos': 0.0, 'compound': 0.0},\n",
       " 'betterjobsearch': {'neg': 0.0, 'neu': 1.0, 'pos': 0.0, 'compound': 0.0},\n",
       " '____sassycassie': {'neg': 0.0, 'neu': 1.0, 'pos': 0.0, 'compound': 0.0},\n",
       " 'shakilkamran': {'neg': 0.0, 'neu': 0.787, 'pos': 0.213, 'compound': 0.5859},\n",
       " 'IncomeCollect': {'neg': 0.0, 'neu': 0.96, 'pos': 0.04, 'compound': 0.0772},\n",
       " 'OfficeSutra': {'neg': 0.0, 'neu': 0.793, 'pos': 0.207, 'compound': 0.5719},\n",
       " 'LevaDuell': {'neg': 0.0, 'neu': 0.899, 'pos': 0.101, 'compound': 0.2023},\n",
       " 'UlaPascal1742': {'neg': 0.0, 'neu': 0.8, 'pos': 0.2, 'compound': 0.6114},\n",
       " 'zobjobsUS': {'neg': 0.0, 'neu': 1.0, 'pos': 0.0, 'compound': 0.0},\n",
       " 'Biznocrats': {'neg': 0.0, 'neu': 0.92, 'pos': 0.08, 'compound': 0.4215},\n",
       " 'OfficeRapids': {'neg': 0.0, 'neu': 0.951, 'pos': 0.049, 'compound': 0.168},\n",
       " 'weworkremotely': {'neg': 0.0, 'neu': 1.0, 'pos': 0.0, 'compound': 0.0},\n",
       " 'FrontEndLoveBot': {'neg': 0.0, 'neu': 1.0, 'pos': 0.0, 'compound': 0.0},\n",
       " 'Odogwu_ElRoi': {'neg': 0.0, 'neu': 0.785, 'pos': 0.215, 'compound': 0.6369},\n",
       " 'LevelUpCoachMM': {'neg': 0.0, 'neu': 1.0, 'pos': 0.0, 'compound': 0.0},\n",
       " 'RzlStores': {'neg': 0.0, 'neu': 0.691, 'pos': 0.309, 'compound': 0.8221},\n",
       " 'SeanGreentree': {'neg': 0.0, 'neu': 0.851, 'pos': 0.149, 'compound': 0.6166},\n",
       " 'davidndana': {'neg': 0.0, 'neu': 0.76, 'pos': 0.24, 'compound': 0.69},\n",
       " 'Urn1d10t': {'neg': 0.074, 'neu': 0.926, 'pos': 0.0, 'compound': -0.1695},\n",
       " 'farfel54': {'neg': 0.0, 'neu': 1.0, 'pos': 0.0, 'compound': 0.0},\n",
       " 'RMT_OfficeNews': {'neg': 0.0, 'neu': 1.0, 'pos': 0.0, 'compound': 0.0},\n",
       " 'cool_golang': {'neg': 0.0, 'neu': 1.0, 'pos': 0.0, 'compound': 0.0},\n",
       " 'jobsviatweet': {'neg': 0.0, 'neu': 0.859, 'pos': 0.141, 'compound': 0.3182},\n",
       " 'Srinu_Kavati7': {'neg': 0.0, 'neu': 1.0, 'pos': 0.0, 'compound': 0.0},\n",
       " 'golangprojects': {'neg': 0.0, 'neu': 1.0, 'pos': 0.0, 'compound': 0.0},\n",
       " 'jameshicksmlm': {'neg': 0.0, 'neu': 0.838, 'pos': 0.162, 'compound': 0.5334},\n",
       " 'javascriptd': {'neg': 0.0, 'neu': 0.82, 'pos': 0.18, 'compound': 0.5255},\n",
       " 'ValerySobolev': {'neg': 0.086, 'neu': 0.914, 'pos': 0.0, 'compound': -0.128},\n",
       " 'Prosper_Kenn': {'neg': 0.0, 'neu': 0.763, 'pos': 0.237, 'compound': 0.6166},\n",
       " 'jd96031036': {'neg': 0.0, 'neu': 1.0, 'pos': 0.0, 'compound': 0.0},\n",
       " 'twentytenmedia': {'neg': 0.0,\n",
       "  'neu': 0.763,\n",
       "  'pos': 0.237,\n",
       "  'compound': 0.6166},\n",
       " 'larrykearney1': {'neg': 0.0, 'neu': 0.763, 'pos': 0.237, 'compound': 0.6166},\n",
       " 'WishingRocks': {'neg': 0.0, 'neu': 1.0, 'pos': 0.0, 'compound': 0.0},\n",
       " 'hiringnowintech': {'neg': 0.0, 'neu': 1.0, 'pos': 0.0, 'compound': 0.0},\n",
       " 'remotewxcom': {'neg': 0.0, 'neu': 1.0, 'pos': 0.0, 'compound': 0.0},\n",
       " 'the__hustlerguy': {'neg': 0.0, 'neu': 1.0, 'pos': 0.0, 'compound': 0.0},\n",
       " 'abzephyr': {'neg': 0.0, 'neu': 0.654, 'pos': 0.346, 'compound': 0.5719},\n",
       " 'dailytrafficmac': {'neg': 0.0,\n",
       "  'neu': 0.722,\n",
       "  'pos': 0.278,\n",
       "  'compound': 0.743},\n",
       " 'MilitaryAutoSrc': {'neg': 0.0,\n",
       "  'neu': 0.894,\n",
       "  'pos': 0.106,\n",
       "  'compound': 0.3595},\n",
       " 'AskCoco4Arise': {'neg': 0.0, 'neu': 1.0, 'pos': 0.0, 'compound': 0.0},\n",
       " 'rawalprashant26': {'neg': 0.176,\n",
       "  'neu': 0.434,\n",
       "  'pos': 0.39,\n",
       "  'compound': 0.8126},\n",
       " 'PleasureOlie1': {'neg': 0.094,\n",
       "  'neu': 0.906,\n",
       "  'pos': 0.0,\n",
       "  'compound': -0.4215},\n",
       " 'TankCareer': {'neg': 0.0, 'neu': 0.909, 'pos': 0.091, 'compound': 0.4019},\n",
       " 'WAHMRevolution': {'neg': 0.0, 'neu': 0.89, 'pos': 0.11, 'compound': 0.3802},\n",
       " 'MotivatedMind7': {'neg': 0.0, 'neu': 1.0, 'pos': 0.0, 'compound': 0.0},\n",
       " 'AlexandrEdgers': {'neg': 0.0,\n",
       "  'neu': 0.638,\n",
       "  'pos': 0.362,\n",
       "  'compound': 0.8807},\n",
       " 'zobjobsCA': {'neg': 0.0, 'neu': 0.936, 'pos': 0.064, 'compound': 0.1779},\n",
       " 'VanessaWFH': {'neg': 0.0, 'neu': 1.0, 'pos': 0.0, 'compound': 0.0},\n",
       " 'BaileyComm1': {'neg': 0.0, 'neu': 0.894, 'pos': 0.106, 'compound': 0.3595},\n",
       " 'CodingDodo': {'neg': 0.0, 'neu': 0.659, 'pos': 0.341, 'compound': 0.886},\n",
       " 'MK_Ent_BTK': {'neg': 0.0, 'neu': 1.0, 'pos': 0.0, 'compound': 0.0},\n",
       " 'sme_rt': {'neg': 0.0, 'neu': 0.847, 'pos': 0.153, 'compound': 0.4019},\n",
       " 'DjMarcoAndre': {'neg': 0.0, 'neu': 0.915, 'pos': 0.085, 'compound': 0.4019},\n",
       " 'Kh527q': {'neg': 0.0, 'neu': 1.0, 'pos': 0.0, 'compound': 0.0},\n",
       " 'akasa_tech': {'neg': 0.0, 'neu': 0.7, 'pos': 0.3, 'compound': 0.743},\n",
       " 'PM_Results': {'neg': 0.0, 'neu': 0.891, 'pos': 0.109, 'compound': 0.4926},\n",
       " 'TravisJLoizos': {'neg': 0.112,\n",
       "  'neu': 0.844,\n",
       "  'pos': 0.044,\n",
       "  'compound': -0.296},\n",
       " 'MayhemMarriage': {'neg': 0.0, 'neu': 1.0, 'pos': 0.0, 'compound': 0.0},\n",
       " 'TechjobApp': {'neg': 0.0, 'neu': 1.0, 'pos': 0.0, 'compound': 0.0},\n",
       " 'Marketi93387465': {'neg': 0.0,\n",
       "  'neu': 0.763,\n",
       "  'pos': 0.237,\n",
       "  'compound': 0.6166},\n",
       " 'VACafeOnline': {'neg': 0.0, 'neu': 1.0, 'pos': 0.0, 'compound': 0.0},\n",
       " 'CherieR444': {'neg': 0.0, 'neu': 1.0, 'pos': 0.0, 'compound': 0.0},\n",
       " 'KhalturaDotCom': {'neg': 0.0, 'neu': 1.0, 'pos': 0.0, 'compound': 0.0},\n",
       " 'blackecodev': {'neg': 0.0, 'neu': 0.938, 'pos': 0.062, 'compound': 0.1477},\n",
       " 'ronariverah': {'neg': 0.0, 'neu': 1.0, 'pos': 0.0, 'compound': 0.0},\n",
       " 'LyliaRose': {'neg': 0.0, 'neu': 1.0, 'pos': 0.0, 'compound': 0.0},\n",
       " 'IncomeWebsites5': {'neg': 0.0,\n",
       "  'neu': 0.803,\n",
       "  'pos': 0.197,\n",
       "  'compound': 0.796},\n",
       " 'Consultingator': {'neg': 0.0, 'neu': 1.0, 'pos': 0.0, 'compound': 0.0},\n",
       " 'aandlmasters': {'neg': 0.0, 'neu': 0.967, 'pos': 0.033, 'compound': 0.0772},\n",
       " 'MyKetoCoachTips': {'neg': 0.0,\n",
       "  'neu': 0.885,\n",
       "  'pos': 0.115,\n",
       "  'compound': 0.3818},\n",
       " 'sanders_stay': {'neg': 0.0, 'neu': 1.0, 'pos': 0.0, 'compound': 0.0},\n",
       " 'remotefportugal': {'neg': 0.0, 'neu': 1.0, 'pos': 0.0, 'compound': 0.0},\n",
       " 'OmasteWitkowski': {'neg': 0.0, 'neu': 1.0, 'pos': 0.0, 'compound': 0.0},\n",
       " 'its_revealed': {'neg': 0.0, 'neu': 0.856, 'pos': 0.144, 'compound': 0.4019},\n",
       " 'BizPartnerMag': {'neg': 0.128,\n",
       "  'neu': 0.807,\n",
       "  'pos': 0.065,\n",
       "  'compound': -0.3309},\n",
       " 'DigitalHRMS': {'neg': 0.0, 'neu': 0.813, 'pos': 0.187, 'compound': 0.7096},\n",
       " 'iamAkmal_1993': {'neg': 0.0, 'neu': 0.949, 'pos': 0.051, 'compound': 0.0772},\n",
       " 'tjsadventures': {'neg': 0.039,\n",
       "  'neu': 0.718,\n",
       "  'pos': 0.242,\n",
       "  'compound': 0.7942},\n",
       " 'MultiplynAgency': {'neg': 0.0, 'neu': 1.0, 'pos': 0.0, 'compound': 0.0},\n",
       " 'SptsGuy1': {'neg': 0.0, 'neu': 1.0, 'pos': 0.0, 'compound': 0.0},\n",
       " 'Ethan_laurent87': {'neg': 0.0,\n",
       "  'neu': 0.681,\n",
       "  'pos': 0.319,\n",
       "  'compound': 0.7964},\n",
       " 'affiliatriches': {'neg': 0.0, 'neu': 1.0, 'pos': 0.0, 'compound': 0.0},\n",
       " 'careerbarn': {'neg': 0.0, 'neu': 1.0, 'pos': 0.0, 'compound': 0.0},\n",
       " 'JavnetG': {'neg': 0.0, 'neu': 1.0, 'pos': 0.0, 'compound': 0.0},\n",
       " 'WantRemoteJob': {'neg': 0.0, 'neu': 1.0, 'pos': 0.0, 'compound': 0.0},\n",
       " 'FongMore': {'neg': 0.0, 'neu': 1.0, 'pos': 0.0, 'compound': 0.0},\n",
       " 'WebEmployed': {'neg': 0.0, 'neu': 1.0, 'pos': 0.0, 'compound': 0.0},\n",
       " 'BilalAn90517091': {'neg': 0.0,\n",
       "  'neu': 0.885,\n",
       "  'pos': 0.115,\n",
       "  'compound': 0.3818},\n",
       " 'workingmumkitty': {'neg': 0.087,\n",
       "  'neu': 0.83,\n",
       "  'pos': 0.083,\n",
       "  'compound': -0.0258},\n",
       " 'hie_shivam': {'neg': 0.192, 'neu': 0.717, 'pos': 0.091, 'compound': -0.4019},\n",
       " 'abates04': {'neg': 0.0, 'neu': 0.654, 'pos': 0.346, 'compound': 0.8767},\n",
       " 'Hody00501599': {'neg': 0.0, 'neu': 1.0, 'pos': 0.0, 'compound': 0.0},\n",
       " 'abcfreetime': {'neg': 0.0, 'neu': 0.967, 'pos': 0.033, 'compound': 0.0772},\n",
       " 'marcusp11': {'neg': 0.054, 'neu': 0.788, 'pos': 0.158, 'compound': 0.5574},\n",
       " 'kainat37947252': {'neg': 0.08,\n",
       "  'neu': 0.786,\n",
       "  'pos': 0.134,\n",
       "  'compound': 0.2292},\n",
       " 'mymoneytips': {'neg': 0.062, 'neu': 0.938, 'pos': 0.0, 'compound': -0.1027},\n",
       " 'jameshickstwi': {'neg': 0.0, 'neu': 0.793, 'pos': 0.207, 'compound': 0.6697},\n",
       " 'IAMSieSmith': {'neg': 0.0, 'neu': 1.0, 'pos': 0.0, 'compound': 0.0},\n",
       " 'JAnjum733': {'neg': 0.0, 'neu': 0.766, 'pos': 0.234, 'compound': 0.6369},\n",
       " 'PenkraftTweets': {'neg': 0.0,\n",
       "  'neu': 0.917,\n",
       "  'pos': 0.083,\n",
       "  'compound': 0.2481},\n",
       " 'nazishkhalid241': {'neg': 0.087,\n",
       "  'neu': 0.789,\n",
       "  'pos': 0.125,\n",
       "  'compound': 0.1295},\n",
       " 'Naveen_farmer': {'neg': 0.0, 'neu': 0.952, 'pos': 0.048, 'compound': 0.0772},\n",
       " 'StellaSanLF': {'neg': 0.0, 'neu': 0.618, 'pos': 0.382, 'compound': 0.872},\n",
       " 'crowdsurfturk': {'neg': 0.0, 'neu': 1.0, 'pos': 0.0, 'compound': 0.0},\n",
       " 'EinfachTommyDE': {'neg': 0.0, 'neu': 0.87, 'pos': 0.13, 'compound': 0.4588},\n",
       " 'StartGrowthHack': {'neg': 0.0, 'neu': 0.6, 'pos': 0.4, 'compound': 0.9001},\n",
       " 'MervynChilcott2': {'neg': 0.0,\n",
       "  'neu': 0.947,\n",
       "  'pos': 0.053,\n",
       "  'compound': 0.0772},\n",
       " 'bubbles4tw': {'neg': 0.0, 'neu': 0.794, 'pos': 0.206, 'compound': 0.4374},\n",
       " 'ElyaneYoussef': {'neg': 0.0, 'neu': 0.886, 'pos': 0.114, 'compound': 0.4019},\n",
       " 'AmimAkhtar3': {'neg': 0.0, 'neu': 0.874, 'pos': 0.126, 'compound': 0.6705},\n",
       " 'Ltonline_': {'neg': 0.0, 'neu': 1.0, 'pos': 0.0, 'compound': 0.0},\n",
       " 'CareerP73149025': {'neg': 0.0,\n",
       "  'neu': 0.909,\n",
       "  'pos': 0.091,\n",
       "  'compound': 0.4019},\n",
       " 'homebalancer': {'neg': 0.0, 'neu': 0.874, 'pos': 0.126, 'compound': 0.4374},\n",
       " 'Milly820124': {'neg': 0.0, 'neu': 0.763, 'pos': 0.237, 'compound': 0.8402},\n",
       " 'ChamberPlanON': {'neg': 0.051,\n",
       "  'neu': 0.835,\n",
       "  'pos': 0.114,\n",
       "  'compound': 0.128},\n",
       " 'TheStartupDoctr': {'neg': 0.0, 'neu': 1.0, 'pos': 0.0, 'compound': 0.0},\n",
       " 'LizaShelina': {'neg': 0.047, 'neu': 0.769, 'pos': 0.184, 'compound': 0.7088},\n",
       " 'RoxyJeeper': {'neg': 0.043, 'neu': 0.81, 'pos': 0.147, 'compound': 0.6697},\n",
       " 'ancreatures': {'neg': 0.0, 'neu': 1.0, 'pos': 0.0, 'compound': 0.0},\n",
       " 'EasytoRetire': {'neg': 0.0, 'neu': 0.926, 'pos': 0.074, 'compound': 0.1511},\n",
       " 'adultwebmasterz': {'neg': 0.0,\n",
       "  'neu': 0.917,\n",
       "  'pos': 0.083,\n",
       "  'compound': 0.4574},\n",
       " 'parakramsingh4': {'neg': 0.0, 'neu': 1.0, 'pos': 0.0, 'compound': 0.0},\n",
       " 'hiyarlormorwhu1': {'neg': 0.053,\n",
       "  'neu': 0.725,\n",
       "  'pos': 0.222,\n",
       "  'compound': 0.7902},\n",
       " 'jamaalb_nyc': {'neg': 0.0, 'neu': 1.0, 'pos': 0.0, 'compound': 0.0},\n",
       " 'EthicalBySarah': {'neg': 0.0,\n",
       "  'neu': 0.761,\n",
       "  'pos': 0.239,\n",
       "  'compound': 0.9226},\n",
       " 'Workingnomad1': {'neg': 0.0, 'neu': 1.0, 'pos': 0.0, 'compound': 0.0},\n",
       " 'ICTPulse': {'neg': 0.0, 'neu': 1.0, 'pos': 0.0, 'compound': 0.0},\n",
       " 'thenickyh': {'neg': 0.0, 'neu': 1.0, 'pos': 0.0, 'compound': 0.0},\n",
       " 'zobjobsGB': {'neg': 0.0, 'neu': 0.885, 'pos': 0.115, 'compound': 0.3818},\n",
       " 'Jebalpesopicu': {'neg': 0.051,\n",
       "  'neu': 0.802,\n",
       "  'pos': 0.147,\n",
       "  'compound': 0.5599},\n",
       " 'TorivoJobs': {'neg': 0.0, 'neu': 0.876, 'pos': 0.124, 'compound': 0.4019},\n",
       " 'Planet_Chad': {'neg': 0.0, 'neu': 1.0, 'pos': 0.0, 'compound': 0.0},\n",
       " 'CreativeCareer9': {'neg': 0.0,\n",
       "  'neu': 0.909,\n",
       "  'pos': 0.091,\n",
       "  'compound': 0.4019},\n",
       " 'bznesmn': {'neg': 0.0, 'neu': 1.0, 'pos': 0.0, 'compound': 0.0},\n",
       " 'JWgroup_biz': {'neg': 0.026, 'neu': 0.737, 'pos': 0.237, 'compound': 0.8945},\n",
       " 'cpittapa': {'neg': 0.0, 'neu': 0.585, 'pos': 0.415, 'compound': 0.9151},\n",
       " 'diginnovators': {'neg': 0.0, 'neu': 0.886, 'pos': 0.114, 'compound': 0.5255},\n",
       " 'Arthanomics2022': {'neg': 0.0, 'neu': 1.0, 'pos': 0.0, 'compound': 0.0},\n",
       " 'CryptoBull3366': {'neg': 0.063, 'neu': 0.696, 'pos': 0.24, 'compound': 0.68}}"
      ]
     },
     "execution_count": 20,
     "metadata": {},
     "output_type": "execute_result"
    }
   ],
   "source": [
    "res"
   ]
  },
  {
   "cell_type": "code",
   "execution_count": 21,
   "id": "fc29ece9",
   "metadata": {},
   "outputs": [],
   "source": [
    "Vaders = pd.DataFrame(res).T"
   ]
  },
  {
   "cell_type": "code",
   "execution_count": 27,
   "id": "32d1bee6",
   "metadata": {},
   "outputs": [],
   "source": [
    "Vaders.to_csv(\"C:\\\\Users\\\\Taha K\\\\OneDrive\\\\Desktop\\\\SentimentAnalysis.csv\")"
   ]
  },
  {
   "cell_type": "code",
   "execution_count": null,
   "id": "3076cf42",
   "metadata": {},
   "outputs": [],
   "source": []
  }
 ],
 "metadata": {
  "kernelspec": {
   "display_name": "Python 3 (ipykernel)",
   "language": "python",
   "name": "python3"
  },
  "language_info": {
   "codemirror_mode": {
    "name": "ipython",
    "version": 3
   },
   "file_extension": ".py",
   "mimetype": "text/x-python",
   "name": "python",
   "nbconvert_exporter": "python",
   "pygments_lexer": "ipython3",
   "version": "3.10.5"
  }
 },
 "nbformat": 4,
 "nbformat_minor": 5
}
